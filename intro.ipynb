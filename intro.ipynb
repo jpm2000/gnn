{
 "cells": [
  {
   "cell_type": "markdown",
   "metadata": {},
   "source": [
    "Documentation\n",
    "\n",
    "https://distill.pub/2021/gnn-intro/\n",
    "https://github.com/tensorflow/gnn/blob/main/tensorflow_gnn/docs/guide/overview.md\n",
    "https://github.com/tensorflow/gnn/blob/main/tensorflow_gnn/docs/guide/intro.md\n",
    "https://www.tensorflow.org\n",
    "https://github.com/adonovan7/KarateClubNetwork\n",
    "\n"
   ]
  }
 ],
 "metadata": {
  "language_info": {
   "name": "python"
  }
 },
 "nbformat": 4,
 "nbformat_minor": 2
}
